{
 "cells": [
  {
   "cell_type": "markdown",
   "metadata": {},
   "source": [
    "## Importing the libraries"
   ]
  },
  {
   "cell_type": "code",
   "execution_count": 1,
   "metadata": {},
   "outputs": [],
   "source": [
    "# import os library \n",
    "import os \n",
    "# Change the current directory \n",
    "# to specified directory \n",
    "os.chdir(r\"C:Functions/\") "
   ]
  },
  {
   "cell_type": "code",
   "execution_count": 2,
   "metadata": {},
   "outputs": [],
   "source": [
    "# Numpy\n",
    "import numpy as np\n",
    "# Import module for NURBS (geomdl)\n",
    "from geomdl import BSpline, utilities\n",
    "from geomdl.visualization import VisMPL as vis\n",
    "# Matplot for plotting\n",
    "import matplotlib.pyplot as plt\n",
    "from mpl_toolkits.mplot3d import axes3d\n",
    "# Call the channel file and generate control points \n",
    "import orthogonalization as ort\n",
    "# Call the NURBS file and generate the evaluation points of St\n",
    "import NURBS\n",
    "# Call the algortihm fuction\n",
    "import algorithm as al\n",
    "# Call the ECLIPSE writer to generate GRDECL.file \n",
    "import GRDECL_file as ecl"
   ]
  },
  {
   "cell_type": "markdown",
   "metadata": {},
   "source": [
    "## Importing the file"
   ]
  },
  {
   "cell_type": "code",
   "execution_count": null,
   "metadata": {},
   "outputs": [],
   "source": [
    "# Load txt file\n",
    "a = np.loadtxt('../Channel_Data/garonne_1.txt', delimiter=',')\n",
    "b = np.loadtxt('../Channel_Data/garonne_2.txt', delimiter=',')\n",
    "c = np.loadtxt('../Channel_Data/garonne_3.txt', delimiter=',')"
   ]
  },
  {
   "cell_type": "markdown",
   "metadata": {},
   "source": [
    "## Create the channel data points"
   ]
  },
  {
   "cell_type": "code",
   "execution_count": null,
   "metadata": {},
   "outputs": [],
   "source": [
    "# Reshape only removing the id point\n",
    "# Defining the array\n",
    "data_1 = ort.dataset(a)\n",
    "data_2 = ort.dataset(b)\n",
    "data_3 = ort.dataset(c)\n",
    "\n",
    "# Data point of channels\n",
    "channel1 = ort.controlpoints(data_1.x,data_1.y,data_1.z,data_1.w,data_1.array)\n",
    "channel2 = ort.controlpoints(data_2.x,data_2.y,data_2.z,data_2.w,data_2.array)\n",
    "channel3 = ort.controlpoints(data_3.x,data_3.y,data_3.z,data_3.w,data_3.array)"
   ]
  },
  {
   "cell_type": "markdown",
   "metadata": {},
   "source": [
    "## Generation surface $St$"
   ]
  },
  {
   "cell_type": "code",
   "execution_count": null,
   "metadata": {},
   "outputs": [],
   "source": [
    "# Points of the channel surfaces St\n",
    "evalpts  = NURBS.Bspline(channel1)\n",
    "evalpts1 = NURBS.Bspline(channel2)\n",
    "evalpts2 = NURBS.Bspline(channel3)"
   ]
  },
  {
   "cell_type": "markdown",
   "metadata": {},
   "source": [
    "## Vertical projection of $2D$ grid on $St$"
   ]
  },
  {
   "cell_type": "code",
   "execution_count": 5,
   "metadata": {},
   "outputs": [],
   "source": [
    "# The risolution for each horizon, top to bottom \n",
    "step = 50 ##### THIS NUMBER CAN BE CHANGED !!!!!"
   ]
  },
  {
   "cell_type": "code",
   "execution_count": null,
   "metadata": {},
   "outputs": [],
   "source": [
    "# 2D grid surface \n",
    "# N.B. THIS RUNNING TAKES A LOT OF TIME, YOU CAN GO TO GRAB A CUP OF COFFEE\n",
    "st1 = al.projection(evalpts,step)\n",
    "st2 = al.projection(evalpts1,step)\n",
    "st3 = al.projection(evalpts2,step)"
   ]
  },
  {
   "cell_type": "code",
   "execution_count": null,
   "metadata": {},
   "outputs": [],
   "source": [
    "# Make a list of 2d arrays \n",
    "# The erosion is introduced to consider the depositional sequence\n",
    "grid = al.erode([st1,st2,st3])"
   ]
  },
  {
   "cell_type": "code",
   "execution_count": 3,
   "metadata": {},
   "outputs": [],
   "source": [
    "layer1 = np.ones((393,750))*(8033.02915016)\n",
    "layer2 = np.ones((393,750))*(8029.054525636)\n",
    "layer3 = np.ones((393,750))*(8025.04309491)\n",
    "top    = np.ones((393,750))*(8000)\n",
    "bottom = np.ones((393,750))*(7950)\n",
    "quote = 16000 \n",
    "\n",
    "regular_grid = top, -layer3+quote, -layer2+quote, -layer1+quote, bottom"
   ]
  },
  {
   "cell_type": "markdown",
   "metadata": {},
   "source": [
    "## Add top and bottom layer"
   ]
  },
  {
   "cell_type": "code",
   "execution_count": null,
   "metadata": {},
   "outputs": [],
   "source": [
    "# Dimension of the array\n",
    "n,m = st1.shape\n",
    "# Add two array as bottom and top layer with a specified altitude\n",
    "top_layer = np.ones((n,m))*(8000)\n",
    "bottom_layer = np.ones((n,m))*(7950)\n",
    "# Build the reservoir grid model\n",
    "# To export in GoCad or ECLIPSE we stack the layers upside down\n",
    "altitude = 16000 # I add an altitude quote, but that value is not mandatory and it can be changed\n",
    "reservoir = top_layer, -grid[2]+altitude, -grid[1]+altitude, -grid[0]+altitude, bottom_layer"
   ]
  },
  {
   "cell_type": "markdown",
   "metadata": {},
   "source": [
    "## Exporting for Eclipse"
   ]
  },
  {
   "cell_type": "code",
   "execution_count": 6,
   "metadata": {},
   "outputs": [],
   "source": [
    "# Define the origin of 2D grid    \n",
    "gridplane = al.grid2D( origin=[356607,4795792], step=step, npoints=[393,750] )\n",
    "# Exporting the block\n",
    "ecl.write_eclipse( regular_grid, gridplane, \"../Results/Eclipse_RegularGrid_5m.GRDECL\" )"
   ]
  }
 ],
 "metadata": {
  "kernelspec": {
   "display_name": "Python 3",
   "language": "python",
   "name": "python3"
  },
  "language_info": {
   "codemirror_mode": {
    "name": "ipython",
    "version": 3
   },
   "file_extension": ".py",
   "mimetype": "text/x-python",
   "name": "python",
   "nbconvert_exporter": "python",
   "pygments_lexer": "ipython3",
   "version": "3.8.5"
  }
 },
 "nbformat": 4,
 "nbformat_minor": 2
}
